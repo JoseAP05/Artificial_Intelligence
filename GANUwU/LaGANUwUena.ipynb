{
  "cells": [
    {
      "cell_type": "code",
      "execution_count": null,
      "metadata": {
        "id": "zgMWBuf61OmL"
      },
      "outputs": [],
      "source": [
        "def hms_string(sec_elapsed):\n",
        "    h = int(sec_elapsed / (60 * 60))\n",
        "    m = int((sec_elapsed % (60 * 60)) / 60)\n",
        "    s = sec_elapsed % 60\n",
        "    return \"{}:{:>02}:{:>05.2f}\".format(h, m, s)"
      ]
    },
    {
      "cell_type": "code",
      "execution_count": null,
      "metadata": {
        "colab": {
          "base_uri": "https://localhost:8080/"
        },
        "id": "Y8_-1h5ddiDp",
        "outputId": "a29398ee-3a43-4386-af51-70f05f39ff26"
      },
      "outputs": [
        {
          "output_type": "stream",
          "name": "stdout",
          "text": [
            "Mounted at /content/drive\n",
            "Note: using Google CoLab\n",
            "Colab only includes TensorFlow 2.x; %tensorflow_version has no effect.\n"
          ]
        }
      ],
      "source": [
        "\n",
        "try:\n",
        "    from google.colab import drive\n",
        "    drive.mount('/content/drive', force_remount=True)\n",
        "    COLAB = True\n",
        "    print(\"Note: using Google CoLab\")\n",
        "    %tensorflow_version 2.x\n",
        "except:\n",
        "    print(\"Note: not using Google CoLab\")\n",
        "    COLAB = False"
      ]
    },
    {
      "cell_type": "code",
      "execution_count": null,
      "metadata": {
        "id": "KubxTY1mdiDm"
      },
      "outputs": [],
      "source": [
        "import tensorflow as tf\n",
        "from tensorflow.keras.layers import Input, Reshape, Dropout, Dense \n",
        "from tensorflow.keras.layers import Flatten, BatchNormalization\n",
        "from tensorflow.keras.layers import Activation, ZeroPadding2D\n",
        "from tensorflow.keras.layers import LeakyReLU\n",
        "from tensorflow.keras.layers import UpSampling2D, Conv2D\n",
        "from tensorflow.keras.models import Sequential, Model, load_model\n",
        "from tensorflow.keras.optimizers import Adam\n",
        "import numpy as np\n",
        "from PIL import Image\n",
        "from tqdm import tqdm\n",
        "import os \n",
        "import time\n",
        "import matplotlib.pyplot as plt"
      ]
    },
    {
      "cell_type": "code",
      "execution_count": null,
      "metadata": {
        "colab": {
          "base_uri": "https://localhost:8080/"
        },
        "id": "tb_XblE7diDr",
        "outputId": "8412aa6c-0af6-47fc-b864-7da5b7b9f950"
      },
      "outputs": [
        {
          "output_type": "stream",
          "name": "stdout",
          "text": [
            "Will generate 96px square images.\n"
          ]
        }
      ],
      "source": [
        "GENERATE_RES = 3 # Generation resolution factor \n",
        "GENERATE_SQUARE = 32 * GENERATE_RES # rows/cols (should be square)\n",
        "IMAGE_CHANNELS = 3\n",
        "\n",
        "# Preview image \n",
        "PREVIEW_ROWS = 4\n",
        "PREVIEW_COLS = 7\n",
        "PREVIEW_MARGIN = 16\n",
        "\n",
        "# Size vector to generate images from\n",
        "SEED_SIZE = 100\n",
        "\n",
        "# Configuration\n",
        "DATA_PATH = '/content/drive/My Drive/GANImages/img_align_celeba'\n",
        "EPOCHS = 50\n",
        "BATCH_SIZE = 40\n",
        "BUFFER_SIZE = 60000\n",
        "\n",
        "print(f\"Will generate {GENERATE_SQUARE}px square images.\")"
      ]
    },
    {
      "cell_type": "code",
      "source": [
        "training_binary_path = os.path.join(DATA_PATH,\n",
        "        f'training_data_{GENERATE_SQUARE}_{GENERATE_SQUARE}.npy')\n",
        "\n",
        "print(f\"Looking for file: {training_binary_path}\")"
      ],
      "metadata": {
        "colab": {
          "base_uri": "https://localhost:8080/"
        },
        "id": "0_rRGmjU6Z0_",
        "outputId": "b4038e5c-0616-4b34-ed93-1923b038e333"
      },
      "execution_count": null,
      "outputs": [
        {
          "output_type": "stream",
          "name": "stdout",
          "text": [
            "Looking for file: /content/drive/My Drive/GANImages/img_align_celeba/training_data_96_96.npy\n"
          ]
        }
      ]
    },
    {
      "cell_type": "code",
      "execution_count": null,
      "metadata": {
        "colab": {
          "base_uri": "https://localhost:8080/"
        },
        "id": "dJ69ALfSdiDv",
        "outputId": "6801fb77-85f9-4de3-86ea-6a27ea4c126d"
      },
      "outputs": [
        {
          "output_type": "stream",
          "name": "stdout",
          "text": [
            "Loading training images...\n"
          ]
        },
        {
          "output_type": "stream",
          "name": "stderr",
          "text": [
            "100%|██████████| 5030/5030 [01:52<00:00, 44.81it/s] \n"
          ]
        },
        {
          "output_type": "stream",
          "name": "stdout",
          "text": [
            "Saving training image binary...\n",
            "Image preprocess time: 0:01:54.88\n"
          ]
        }
      ],
      "source": [
        "if not os.path.isfile(training_binary_path):\n",
        "  start = time.time()\n",
        "  print(\"Loading training images...\")\n",
        "\n",
        "  training_data = []\n",
        "  faces_path = os.path.join(DATA_PATH,'')\n",
        "  for filename in tqdm(os.listdir(faces_path)):\n",
        "      path = os.path.join(faces_path,filename)\n",
        "      image = Image.open(path).resize((GENERATE_SQUARE,\n",
        "            GENERATE_SQUARE),Image.ANTIALIAS)\n",
        "      training_data.append(np.asarray(image))\n",
        "  training_data = np.reshape(training_data,(-1,GENERATE_SQUARE,\n",
        "            GENERATE_SQUARE,IMAGE_CHANNELS))\n",
        "  training_data = training_data.astype(np.float32)\n",
        "  training_data = training_data / 127.5 - 1.\n",
        "\n",
        "\n",
        "  print(\"Saving training image binary...\")\n",
        "  np.save(training_binary_path,training_data)\n",
        "  elapsed = time.time()-start\n",
        "  print (f'Image preprocess time: {hms_string(elapsed)}')\n",
        "else:\n",
        "  print(\"Loading previous training pickle...\")\n",
        "  training_data = np.load(training_binary_path)"
      ]
    },
    {
      "cell_type": "code",
      "execution_count": null,
      "metadata": {
        "id": "BXl0JohJBx69"
      },
      "outputs": [],
      "source": [
        "# Batch and shuffle the data\n",
        "train_dataset = tf.data.Dataset.from_tensor_slices(training_data) \\\n",
        "    .shuffle(BUFFER_SIZE).batch(BATCH_SIZE)"
      ]
    },
    {
      "cell_type": "code",
      "execution_count": null,
      "metadata": {
        "id": "Ulou-BZPybzT"
      },
      "outputs": [],
      "source": [
        "def build_generator(seed_size, channels):\n",
        "    model = Sequential()\n",
        "\n",
        "    model.add(Dense(4*4*256,activation=\"relu\",input_dim=seed_size))\n",
        "    model.add(Reshape((4,4,256)))\n",
        "\n",
        "    model.add(UpSampling2D())\n",
        "    model.add(Conv2D(256,kernel_size=3,padding=\"same\"))\n",
        "    model.add(BatchNormalization(momentum=0.8))\n",
        "    model.add(Activation(\"relu\"))\n",
        "\n",
        "    model.add(UpSampling2D())\n",
        "    model.add(Conv2D(256,kernel_size=3,padding=\"same\"))\n",
        "    model.add(BatchNormalization(momentum=0.8))\n",
        "    model.add(Activation(\"relu\"))\n",
        "   \n",
        "    # Output resolution, additional upsampling\n",
        "    model.add(UpSampling2D())\n",
        "    model.add(Conv2D(128,kernel_size=3,padding=\"same\"))\n",
        "    model.add(BatchNormalization(momentum=0.8))\n",
        "    model.add(Activation(\"relu\"))\n",
        "\n",
        "    if GENERATE_RES>1:\n",
        "      model.add(UpSampling2D(size=(GENERATE_RES,GENERATE_RES)))\n",
        "      model.add(Conv2D(128,kernel_size=3,padding=\"same\"))\n",
        "      model.add(BatchNormalization(momentum=0.8))\n",
        "      model.add(Activation(\"relu\"))\n",
        "\n",
        "    # Final CNN layer\n",
        "    model.add(Conv2D(channels,kernel_size=3,padding=\"same\"))\n",
        "    model.add(Activation(\"tanh\"))\n",
        "\n",
        "    return model\n",
        "\n",
        "\n",
        "def build_discriminator(image_shape):\n",
        "    model = Sequential()\n",
        "\n",
        "    model.add(Conv2D(32, kernel_size=3, strides=2, input_shape=image_shape, \n",
        "                     padding=\"same\"))\n",
        "    model.add(LeakyReLU(alpha=0.2))\n",
        "\n",
        "    model.add(Dropout(0.25))\n",
        "    model.add(Conv2D(64, kernel_size=3, strides=2, padding=\"same\"))\n",
        "    model.add(ZeroPadding2D(padding=((0,1),(0,1))))\n",
        "    model.add(BatchNormalization(momentum=0.8))\n",
        "    model.add(LeakyReLU(alpha=0.2))\n",
        "\n",
        "    model.add(Dropout(0.25))\n",
        "    model.add(Conv2D(128, kernel_size=3, strides=2, padding=\"same\"))\n",
        "    model.add(BatchNormalization(momentum=0.8))\n",
        "    model.add(LeakyReLU(alpha=0.2))\n",
        "\n",
        "    model.add(Dropout(0.25))\n",
        "    model.add(Conv2D(256, kernel_size=3, strides=1, padding=\"same\"))\n",
        "    model.add(BatchNormalization(momentum=0.8))\n",
        "    model.add(LeakyReLU(alpha=0.2))\n",
        "\n",
        "    model.add(Dropout(0.25))\n",
        "    model.add(Conv2D(512, kernel_size=3, strides=1, padding=\"same\"))\n",
        "    model.add(BatchNormalization(momentum=0.8))\n",
        "    model.add(LeakyReLU(alpha=0.2))\n",
        "\n",
        "    model.add(Dropout(0.25))\n",
        "    model.add(Flatten())\n",
        "    model.add(Dense(1, activation='sigmoid'))\n",
        "\n",
        "    return model"
      ]
    },
    {
      "cell_type": "code",
      "execution_count": null,
      "metadata": {
        "id": "UKnCeDut2cp0"
      },
      "outputs": [],
      "source": [
        "def save_images(cnt,noise):\n",
        "  image_array = np.full(( \n",
        "      PREVIEW_MARGIN + (PREVIEW_ROWS * (GENERATE_SQUARE+PREVIEW_MARGIN)), \n",
        "      PREVIEW_MARGIN + (PREVIEW_COLS * (GENERATE_SQUARE+PREVIEW_MARGIN)), IMAGE_CHANNELS), \n",
        "      255, dtype=np.uint8)\n",
        "  \n",
        "  generated_images = generator.predict(noise)\n",
        "\n",
        "  generated_images = 0.5 * generated_images + 0.5\n",
        "\n",
        "  image_count = 0\n",
        "  for row in range(PREVIEW_ROWS):\n",
        "      for col in range(PREVIEW_COLS):\n",
        "        r = row * (GENERATE_SQUARE+16) + PREVIEW_MARGIN\n",
        "        c = col * (GENERATE_SQUARE+16) + PREVIEW_MARGIN\n",
        "        image_array[r:r+GENERATE_SQUARE,c:c+GENERATE_SQUARE] \\\n",
        "            = generated_images[image_count] * 255\n",
        "        image_count += 1\n",
        "\n",
        "          \n",
        "  output_path = os.path.join(DATA_PATH,'output')\n",
        "  if not os.path.exists(output_path):\n",
        "    os.makedirs(output_path)\n",
        "  \n",
        "  filename = os.path.join(output_path,f\"train-{cnt}.png\")\n",
        "  im = Image.fromarray(image_array)\n",
        "  im.save(filename)"
      ]
    },
    {
      "cell_type": "code",
      "execution_count": null,
      "metadata": {
        "colab": {
          "base_uri": "https://localhost:8080/",
          "height": 450
        },
        "id": "gL5byGhNzOzd",
        "outputId": "6ff27e52-c84e-4935-903d-bbed8741e243"
      },
      "outputs": [
        {
          "output_type": "execute_result",
          "data": {
            "text/plain": [
              "<matplotlib.image.AxesImage at 0x7ff02161d8e0>"
            ]
          },
          "metadata": {},
          "execution_count": 32
        },
        {
          "output_type": "display_data",
          "data": {
            "text/plain": [
              "<Figure size 640x480 with 1 Axes>"
            ],
            "image/png": "[encoded data removed]"
          },
          "metadata": {}
        }
      ],
      "source": [
        "generator = build_generator(SEED_SIZE, IMAGE_CHANNELS)\n",
        "\n",
        "noise = tf.random.normal([1, SEED_SIZE])\n",
        "generated_image = generator(noise, training=False)\n",
        "\n",
        "plt.imshow(generated_image[0, :, :, 0])"
      ]
    },
    {
      "cell_type": "code",
      "execution_count": null,
      "metadata": {
        "colab": {
          "base_uri": "https://localhost:8080/"
        },
        "id": "LOnTxIXnyeEQ",
        "outputId": "5eaa8787-c4c5-4e14-95d5-e00f945e1e7f"
      },
      "outputs": [
        {
          "output_type": "stream",
          "name": "stdout",
          "text": [
            "tf.Tensor([[0.5000103]], shape=(1, 1), dtype=float32)\n"
          ]
        }
      ],
      "source": [
        "image_shape = (GENERATE_SQUARE,GENERATE_SQUARE,IMAGE_CHANNELS)\n",
        "\n",
        "discriminator = build_discriminator(image_shape)\n",
        "decision = discriminator(generated_image)\n",
        "print (decision)"
      ]
    },
    {
      "cell_type": "code",
      "execution_count": null,
      "metadata": {
        "id": "gBaP98zAySJV"
      },
      "outputs": [],
      "source": [
        "cross_entropy = tf.keras.losses.BinaryCrossentropy()\n",
        "\n",
        "def discriminator_loss(real_output, fake_output):\n",
        "    real_loss = cross_entropy(tf.ones_like(real_output), real_output)\n",
        "    fake_loss = cross_entropy(tf.zeros_like(fake_output), fake_output)\n",
        "    total_loss = real_loss + fake_loss\n",
        "    return total_loss\n",
        "\n",
        "def generator_loss(fake_output):\n",
        "    return cross_entropy(tf.ones_like(fake_output), fake_output)"
      ]
    },
    {
      "cell_type": "code",
      "execution_count": null,
      "metadata": {
        "id": "79UDhOCa0R4h"
      },
      "outputs": [],
      "source": [
        "generator_optimizer = tf.keras.optimizers.Adam(1.5e-4,0.5)\n",
        "discriminator_optimizer = tf.keras.optimizers.Adam(1.5e-4,0.5)"
      ]
    },
    {
      "cell_type": "code",
      "execution_count": null,
      "metadata": {
        "id": "uzyh-LqU0j5d"
      },
      "outputs": [],
      "source": [
        "@tf.function\n",
        "def train_step(images):\n",
        "  seed = tf.random.normal([BATCH_SIZE, SEED_SIZE])\n",
        "\n",
        "  with tf.GradientTape() as gen_tape, tf.GradientTape() as disc_tape:\n",
        "    generated_images = generator(seed, training=True)\n",
        "\n",
        "    real_output = discriminator(images, training=True)\n",
        "    fake_output = discriminator(generated_images, training=True)\n",
        "\n",
        "    gen_loss = generator_loss(fake_output)\n",
        "    disc_loss = discriminator_loss(real_output, fake_output)\n",
        "    \n",
        "\n",
        "    gradients_of_generator = gen_tape.gradient(\\\n",
        "        gen_loss, generator.trainable_variables)\n",
        "    gradients_of_discriminator = disc_tape.gradient(\\\n",
        "        disc_loss, discriminator.trainable_variables)\n",
        "\n",
        "    generator_optimizer.apply_gradients(zip(\n",
        "        gradients_of_generator, generator.trainable_variables))\n",
        "    discriminator_optimizer.apply_gradients(zip(\n",
        "        gradients_of_discriminator, \n",
        "        discriminator.trainable_variables))\n",
        "  return gen_loss,disc_loss"
      ]
    },
    {
      "cell_type": "code",
      "execution_count": null,
      "metadata": {
        "id": "NjrRgDR10lSF"
      },
      "outputs": [],
      "source": [
        "def train(dataset, epochs):\n",
        "  fixed_seed = np.random.normal(0, 1, (PREVIEW_ROWS * PREVIEW_COLS, \n",
        "                                       SEED_SIZE))\n",
        "  start = time.time()\n",
        "\n",
        "  for epoch in range(epochs):\n",
        "    epoch_start = time.time()\n",
        "\n",
        "    gen_loss_list = []\n",
        "    disc_loss_list = []\n",
        "\n",
        "    for image_batch in dataset:\n",
        "      t = train_step(image_batch)\n",
        "      gen_loss_list.append(t[0])\n",
        "      disc_loss_list.append(t[1])\n",
        "\n",
        "    g_loss = sum(gen_loss_list) / len(gen_loss_list)\n",
        "    d_loss = sum(disc_loss_list) / len(disc_loss_list)\n",
        "\n",
        "    epoch_elapsed = time.time()-epoch_start\n",
        "    print (f'Epoch {epoch+1}, gen loss={g_loss},disc loss={d_loss},'\\\n",
        "           f' {hms_string(epoch_elapsed)}')\n",
        "    save_images(epoch,fixed_seed)\n",
        "\n",
        "  elapsed = time.time()-start\n",
        "  print (f'Training time: {hms_string(elapsed)}')\n"
      ]
    },
    {
      "cell_type": "code",
      "execution_count": null,
      "metadata": {
        "colab": {
          "base_uri": "https://localhost:8080/"
        },
        "id": "vWmEHprD0t1V",
        "outputId": "94d06dc7-c128-4de0-b7b4-b7f168c4e7a2"
      },
      "outputs": [
        {
          "output_type": "stream",
          "name": "stdout",
          "text": [
            "Epoch 1, gen loss=3.164836883544922,disc loss=0.7940783500671387, 0:00:41.95\n",
            "1/1 [==============================] - 1s 1s/step\n",
            "Epoch 2, gen loss=3.6760380268096924,disc loss=0.9542441964149475, 0:00:23.92\n",
            "1/1 [==============================] - 0s 19ms/step\n",
            "Epoch 3, gen loss=3.7853105068206787,disc loss=1.0236492156982422, 0:00:24.13\n",
            "1/1 [==============================] - 0s 19ms/step\n",
            "Epoch 4, gen loss=3.372642993927002,disc loss=1.2119272947311401, 0:00:24.48\n",
            "1/1 [==============================] - 0s 20ms/step\n",
            "Epoch 5, gen loss=2.6791608333587646,disc loss=1.4331471920013428, 0:00:24.25\n",
            "1/1 [==============================] - 0s 29ms/step\n",
            "Epoch 6, gen loss=2.338590621948242,disc loss=1.0731329917907715, 0:00:24.17\n",
            "1/1 [==============================] - 0s 26ms/step\n",
            "Epoch 7, gen loss=2.1432416439056396,disc loss=1.3313791751861572, 0:00:24.11\n",
            "1/1 [==============================] - 0s 18ms/step\n",
            "Epoch 8, gen loss=2.1302404403686523,disc loss=1.2544251680374146, 0:00:24.28\n",
            "1/1 [==============================] - 0s 19ms/step\n",
            "Epoch 9, gen loss=2.2061238288879395,disc loss=1.1310430765151978, 0:00:24.33\n",
            "1/1 [==============================] - 0s 18ms/step\n",
            "Epoch 10, gen loss=2.2887303829193115,disc loss=1.0955332517623901, 0:00:24.28\n",
            "1/1 [==============================] - 0s 18ms/step\n",
            "Epoch 11, gen loss=2.7048048973083496,disc loss=1.0729871988296509, 0:00:24.26\n",
            "1/1 [==============================] - 0s 18ms/step\n",
            "Epoch 12, gen loss=3.0611538887023926,disc loss=1.0345460176467896, 0:00:24.19\n",
            "1/1 [==============================] - 0s 26ms/step\n",
            "Epoch 13, gen loss=2.621858835220337,disc loss=1.017915964126587, 0:00:24.20\n",
            "1/1 [==============================] - 0s 18ms/step\n",
            "Epoch 14, gen loss=3.1021127700805664,disc loss=0.9997918009757996, 0:00:24.27\n",
            "1/1 [==============================] - 0s 18ms/step\n",
            "Epoch 15, gen loss=3.0519871711730957,disc loss=1.037916898727417, 0:00:24.34\n",
            "1/1 [==============================] - 0s 19ms/step\n",
            "Epoch 16, gen loss=3.140324592590332,disc loss=0.9973475933074951, 0:00:24.33\n",
            "1/1 [==============================] - 0s 22ms/step\n",
            "Epoch 17, gen loss=3.17165470123291,disc loss=0.8479598760604858, 0:00:24.21\n",
            "1/1 [==============================] - 0s 18ms/step\n",
            "Epoch 18, gen loss=2.5982766151428223,disc loss=0.9488189816474915, 0:00:24.21\n",
            "1/1 [==============================] - 0s 28ms/step\n",
            "Epoch 19, gen loss=2.2461256980895996,disc loss=1.080996036529541, 0:00:24.18\n",
            "1/1 [==============================] - 0s 31ms/step\n",
            "Epoch 20, gen loss=2.3661022186279297,disc loss=1.0630958080291748, 0:00:24.13\n",
            "1/1 [==============================] - 0s 20ms/step\n",
            "Epoch 21, gen loss=2.1644062995910645,disc loss=1.0307947397232056, 0:00:24.18\n",
            "1/1 [==============================] - 0s 21ms/step\n",
            "Epoch 22, gen loss=2.3492379188537598,disc loss=0.9855758547782898, 0:00:24.26\n",
            "1/1 [==============================] - 0s 18ms/step\n",
            "Epoch 23, gen loss=2.493161201477051,disc loss=0.9862695932388306, 0:00:24.36\n",
            "1/1 [==============================] - 0s 18ms/step\n",
            "Epoch 24, gen loss=2.470715045928955,disc loss=0.9202953577041626, 0:00:24.32\n",
            "1/1 [==============================] - 0s 18ms/step\n",
            "Epoch 25, gen loss=2.655461311340332,disc loss=1.1196341514587402, 0:00:24.27\n",
            "1/1 [==============================] - 0s 31ms/step\n",
            "Epoch 26, gen loss=2.3039541244506836,disc loss=0.9959782958030701, 0:00:24.20\n",
            "1/1 [==============================] - 0s 36ms/step\n",
            "Epoch 27, gen loss=2.1795318126678467,disc loss=0.940945029258728, 0:00:24.15\n",
            "1/1 [==============================] - 0s 19ms/step\n",
            "Epoch 28, gen loss=2.2448785305023193,disc loss=1.038046956062317, 0:00:24.20\n",
            "1/1 [==============================] - 0s 18ms/step\n",
            "Epoch 29, gen loss=2.3141350746154785,disc loss=0.9992952942848206, 0:00:24.22\n",
            "1/1 [==============================] - 0s 17ms/step\n",
            "Epoch 30, gen loss=2.2844793796539307,disc loss=0.980991542339325, 0:00:24.25\n",
            "1/1 [==============================] - 0s 17ms/step\n",
            "Epoch 31, gen loss=2.31262469291687,disc loss=1.0203357934951782, 0:00:24.30\n",
            "1/1 [==============================] - 0s 18ms/step\n",
            "Epoch 32, gen loss=2.295233964920044,disc loss=1.0087417364120483, 0:00:24.36\n",
            "1/1 [==============================] - 0s 30ms/step\n",
            "Epoch 33, gen loss=2.4096837043762207,disc loss=1.0143495798110962, 0:00:24.29\n",
            "1/1 [==============================] - 0s 18ms/step\n",
            "Epoch 34, gen loss=2.333073616027832,disc loss=0.988997220993042, 0:00:24.27\n",
            "1/1 [==============================] - 0s 18ms/step\n",
            "Epoch 35, gen loss=2.2190163135528564,disc loss=0.9592992067337036, 0:00:24.35\n",
            "1/1 [==============================] - 0s 20ms/step\n",
            "Epoch 36, gen loss=2.2924129962921143,disc loss=1.0241276025772095, 0:00:24.28\n",
            "1/1 [==============================] - 0s 19ms/step\n",
            "Epoch 37, gen loss=2.148129463195801,disc loss=0.9982266426086426, 0:00:24.28\n",
            "1/1 [==============================] - 0s 17ms/step\n",
            "Epoch 38, gen loss=2.181983232498169,disc loss=0.994597315788269, 0:00:24.30\n",
            "1/1 [==============================] - 0s 18ms/step\n",
            "Epoch 39, gen loss=2.1456284523010254,disc loss=0.951977550983429, 0:00:24.29\n",
            "1/1 [==============================] - 0s 34ms/step\n",
            "Epoch 40, gen loss=2.2551794052124023,disc loss=1.01255464553833, 0:00:24.30\n",
            "1/1 [==============================] - 0s 18ms/step\n",
            "Epoch 41, gen loss=2.3004281520843506,disc loss=0.9756782650947571, 0:00:24.36\n",
            "1/1 [==============================] - 0s 18ms/step\n",
            "Epoch 42, gen loss=2.353304386138916,disc loss=1.0125521421432495, 0:00:24.29\n",
            "1/1 [==============================] - 0s 17ms/step\n",
            "Epoch 43, gen loss=2.2253079414367676,disc loss=0.9992800951004028, 0:00:24.27\n",
            "1/1 [==============================] - 0s 19ms/step\n",
            "Epoch 44, gen loss=2.2527127265930176,disc loss=1.0083593130111694, 0:00:24.24\n",
            "1/1 [==============================] - 0s 18ms/step\n",
            "Epoch 45, gen loss=2.3324859142303467,disc loss=0.9481693506240845, 0:00:24.23\n",
            "1/1 [==============================] - 0s 21ms/step\n",
            "Epoch 46, gen loss=2.465219736099243,disc loss=0.9388877153396606, 0:00:24.22\n",
            "1/1 [==============================] - 0s 32ms/step\n",
            "Epoch 47, gen loss=2.523071527481079,disc loss=0.9048623442649841, 0:00:24.25\n",
            "1/1 [==============================] - 0s 18ms/step\n",
            "Epoch 48, gen loss=2.303969383239746,disc loss=0.9325895309448242, 0:00:24.22\n",
            "1/1 [==============================] - 0s 18ms/step\n",
            "Epoch 49, gen loss=2.3007376194000244,disc loss=0.9083480834960938, 0:00:24.23\n",
            "1/1 [==============================] - 0s 17ms/step\n",
            "Epoch 50, gen loss=2.3302767276763916,disc loss=0.9782730340957642, 0:00:24.23\n",
            "1/1 [==============================] - 0s 19ms/step\n",
            "Training time: 0:20:48.56\n"
          ]
        }
      ],
      "source": [
        "train(train_dataset, EPOCHS)"
      ]
    },
    {
      "cell_type": "code",
      "execution_count": null,
      "metadata": {
        "id": "15Hia_feD9sm",
        "colab": {
          "base_uri": "https://localhost:8080/"
        },
        "outputId": "f657185c-27dd-438a-a59e-28e47f3e2b9e"
      },
      "outputs": [
        {
          "output_type": "stream",
          "name": "stderr",
          "text": [
            "WARNING:tensorflow:Compiled the loaded model, but the compiled metrics have yet to be built. `model.compile_metrics` will be empty until you train or evaluate the model.\n"
          ]
        }
      ],
      "source": [
        "generator.save(os.path.join(DATA_PATH,\"face_generator.h5\"))"
      ]
    }
  ],
  "metadata": {
    "anaconda-cloud": {},
    "colab": {
      "provenance": []
    },
    "kernelspec": {
      "display_name": "Python 3.9 (tensorflow)",
      "language": "python",
      "name": "tensorflow"
    },
    "language_info": {
      "codemirror_mode": {
        "name": "ipython",
        "version": 3
      },
      "file_extension": ".py",
      "mimetype": "text/x-python",
      "name": "python",
      "nbconvert_exporter": "python",
      "pygments_lexer": "ipython3",
      "version": "3.9.7"
    },
    "accelerator": "GPU",
    "gpuClass": "standard"
  },
  "nbformat": 4,
  "nbformat_minor": 0
}